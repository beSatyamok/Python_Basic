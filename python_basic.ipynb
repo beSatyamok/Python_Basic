{
  "nbformat": 4,
  "nbformat_minor": 0,
  "metadata": {
    "colab": {
      "provenance": []
    },
    "kernelspec": {
      "name": "python3",
      "display_name": "Python 3"
    },
    "language_info": {
      "name": "python"
    }
  },
  "cells": [
    {
      "cell_type": "markdown",
      "source": [
        "# **Python Basics Questions**\n",
        "---\n",
        "\n",
        "\n",
        "1. What is Python, and why is it popular?\n",
        "\n",
        "Ans:- Python is a high-level, interpreted programming language known for its simplicity and readability.\n",
        "It is popular because:\n",
        "\n",
        "*   Easy to learn (syntax is close to English).\n",
        "*   Has a large number of libraries (AI, web dev, data science, etc.).\n",
        "*   Cross-platform (runs on Windows, macOS, Linux).\n",
        "*   Huge community support.\n",
        "\n",
        "\n",
        "2. What is an interpreter in Python?\n",
        "\n",
        "Ans:- An interpreter is a program that executes Python code line by line instead of compiling the entire program first.\n",
        "This makes debugging easier and interactive coding possible.\n",
        "\n",
        "3. What are pre-defined keywords in Python?\n",
        "\n",
        "Ans:- Keywords are reserved words in Python that have special meaning (like if, for, while, def, class).\n",
        "They cannot be redefined or used as variable names.\n"
      ],
      "metadata": {
        "id": "z8wP7VFAGKZT"
      }
    },
    {
      "cell_type": "code",
      "source": [
        "# 4. Can keywords be used as variable names?\n",
        "'Ans:- No. Keywords are reserved.'\n",
        "# For example:\n",
        "\n",
        "if = 10  # Error\n"
      ],
      "metadata": {
        "colab": {
          "base_uri": "https://localhost:8080/",
          "height": 106
        },
        "id": "M-kQYfOVJ2Kd",
        "outputId": "8abdf682-25bf-479d-8f31-b6974226fe88"
      },
      "execution_count": 2,
      "outputs": [
        {
          "output_type": "error",
          "ename": "SyntaxError",
          "evalue": "invalid syntax (ipython-input-1712398762.py, line 5)",
          "traceback": [
            "\u001b[0;36m  File \u001b[0;32m\"/tmp/ipython-input-1712398762.py\"\u001b[0;36m, line \u001b[0;32m5\u001b[0m\n\u001b[0;31m    if = 10  # Error\u001b[0m\n\u001b[0m       ^\u001b[0m\n\u001b[0;31mSyntaxError\u001b[0m\u001b[0;31m:\u001b[0m invalid syntax\n"
          ]
        }
      ]
    },
    {
      "cell_type": "markdown",
      "source": [
        "5. What is mutability in Python?\n",
        "\n",
        "Ans:- Mutability means whether the content of an object can be changed after creation.\n",
        "\n",
        "* Mutable → can change (like lists, dictionaries).\n",
        "* Immutable → cannot change (like strings, tuples).\n",
        "\n",
        "6. Why are lists mutable, but tuples are immutable?\n",
        "\n",
        "Ans:-\n",
        "* Lists are designed to store and modify collections (append, remove, update).\n",
        "* Tuples are fixed collections meant for data safety and consistency (faster and hashable).\n",
        "\n"
      ],
      "metadata": {
        "id": "nYn4LKceK53k"
      }
    },
    {
      "cell_type": "code",
      "source": [
        "# 7. What is the difference between == and is operators in Python?\n",
        "'''Ans:- * == → checks value equality (are the contents same?).\n",
        "* is → checks identity (do they refer to the same memory object?).'''\n",
        "# For Example:\n",
        "\n",
        "a = [1, 2]\n",
        "b = [1, 2]\n",
        "print(a == b)  # True (values same)\n",
        "print(a is b)  # False (different memory locations)\n"
      ],
      "metadata": {
        "id": "sEYDEP8sMAk2"
      },
      "execution_count": null,
      "outputs": []
    },
    {
      "cell_type": "markdown",
      "source": [
        "8. What are logical operators in Python?\n",
        "\n",
        "Ans:- Logical operators combine conditions:\n",
        "* and → True if both conditions are True.\n",
        "* or → True if at least one condition is True.\n",
        "* not → Reverses the condition."
      ],
      "metadata": {
        "id": "clo_5ubzMu2I"
      }
    },
    {
      "cell_type": "code",
      "source": [
        "# 9. What is type casting in Python?\n",
        "'Ans:- Type casting means converting one data type to another.'\n",
        "# For Example:\n",
        "\n",
        "x = \"123\"\n",
        "y = int(x)  # explicit type casting"
      ],
      "metadata": {
        "id": "ha61rv2XNDgu"
      },
      "execution_count": null,
      "outputs": []
    },
    {
      "cell_type": "code",
      "source": [
        "# 10. What is the difference between implicit and explicit type casting?\n",
        "'Ans:- * Implicit (Type Conversion) → Python automatically converts (safe conversions).'\n",
        "\n",
        "x = 10\n",
        "y = 2.5\n",
        "z = x + y  # int → float automatically\n",
        "\n",
        "' * Explicit (Type Casting) → Programmer converts using functions (int(), float(), str()).'"
      ],
      "metadata": {
        "id": "paL75vRBNnRa"
      },
      "execution_count": null,
      "outputs": []
    },
    {
      "cell_type": "markdown",
      "source": [
        "11. What is the purpose of conditional statements in Python?\n",
        "\n",
        "Ans:- Conditional statements allow decision making in code, e.g. running different blocks of code depending on conditions (if, elif, else)."
      ],
      "metadata": {
        "id": "oQ9MvSUWOOKq"
      }
    },
    {
      "cell_type": "code",
      "source": [
        "# 12. How does the elif statement work?\n",
        "'Ans:- elif (else-if) checks multiple conditions in sequence.'\n",
        "# For Example:\n",
        "\n",
        "age = 20\n",
        "if age < 13:\n",
        "    print(\"Child\")\n",
        "elif age < 20:\n",
        "    print(\"Teen\")\n",
        "else:\n",
        "    print(\"Adult\")"
      ],
      "metadata": {
        "id": "mDboDIpeOhl2"
      },
      "execution_count": null,
      "outputs": []
    },
    {
      "cell_type": "markdown",
      "source": [
        "13. What is the difference between for and while loops?\n",
        "\n",
        "Ans:-\n",
        "* for loop → used when the number of iterations is known (works on sequences).\n",
        "* while loop → used when iterations depend on a condition, not fixed count.\n"
      ],
      "metadata": {
        "id": "Te3hQ9ppPBp1"
      }
    },
    {
      "cell_type": "code",
      "source": [
        "# 14. Describe a scenario where a while loop is more suitable than a for loop.\n",
        "'Example: ATM PIN verification system'\n",
        "\n",
        "pin = \"1234\"\n",
        "entered = \"\"\n",
        "while entered != pin:\n",
        "    entered = input(\"Enter PIN: \")\n",
        "print(\"Access Granted!\")\n",
        "\n",
        "'Here, we don’t know how many attempts user will take → so while is better.'"
      ],
      "metadata": {
        "id": "uEdoc36fPSih"
      },
      "execution_count": null,
      "outputs": []
    },
    {
      "cell_type": "markdown",
      "source": [
        "# **Practical Questions**\n",
        "\n",
        "---\n",
        "\n"
      ],
      "metadata": {
        "id": "_SyYY8J_Sgdc"
      }
    },
    {
      "cell_type": "code",
      "source": [
        "# 1. Write a Python program to print \"Hello, World!\"\n",
        "print(\"Hello, World!\")"
      ],
      "metadata": {
        "id": "B6ZYKT51S49O"
      },
      "execution_count": null,
      "outputs": []
    },
    {
      "cell_type": "code",
      "source": [
        "# 2. Write a Python program that displays your name and age.\n",
        "name = \"Sattu\"\n",
        "age = 20\n",
        "print(\"Name:\", name)\n",
        "print(\"Age:\", age)"
      ],
      "metadata": {
        "id": "ojs-mIr-TCYf"
      },
      "execution_count": null,
      "outputs": []
    },
    {
      "cell_type": "code",
      "source": [
        "# 3. Write code to print all the pre-defined keywords in Python using the keyword library.\n",
        "import keyword\n",
        "print(\"Python Keywords:\")\n",
        "print(keyword.kwlist)"
      ],
      "metadata": {
        "id": "xqIyIhuCTzov"
      },
      "execution_count": null,
      "outputs": []
    },
    {
      "cell_type": "code",
      "source": [
        "# 4. Write a program that checks if a given word is a Python keyword.\n",
        "import keyword\n",
        "\n",
        "word = input(\"Enter a word: \")\n",
        "if keyword.iskeyword(word):\n",
        "    print(word, \"is a Python keyword.\")\n",
        "else:\n",
        "    print(word, \"is NOT a Python keyword.\")"
      ],
      "metadata": {
        "id": "mlmX7OWoUHV7"
      },
      "execution_count": null,
      "outputs": []
    },
    {
      "cell_type": "code",
      "source": [
        "# 5. Create a list and tuple in Python, and demonstrate how attempting to change an element works differently for each.\n",
        "# List (mutable)\n",
        "my_list = [1, 2, 3]\n",
        "my_list[0] = 10\n",
        "print(\"Modified List:\", my_list)\n",
        "\n",
        "# Tuple (immutable)\n",
        "my_tuple = (1, 2, 3)\n",
        "try:\n",
        "    my_tuple[0] = 10\n",
        "except TypeError as e:\n",
        "    print(\"Error:\", e)"
      ],
      "metadata": {
        "id": "RU6mCPQTUYlU"
      },
      "execution_count": null,
      "outputs": []
    },
    {
      "cell_type": "code",
      "source": [
        "# 6. Write a function to demonstrate the behavior of mutable and immutable arguments.\n",
        "def modify(num, lst):\n",
        "    num += 10        # Immutable (int won't change outside)\n",
        "    lst.append(10)   # Mutable (list will change outside)\n",
        "    print(\"Inside function - num:\", num, \"list:\", lst)\n",
        "\n",
        "# Test\n",
        "x = 5\n",
        "y = [1, 2, 3]\n",
        "modify(x, y)\n",
        "print(\"Outside function - num:\", x, \"list:\", y)\n"
      ],
      "metadata": {
        "id": "aB4XRj1QU8h1"
      },
      "execution_count": null,
      "outputs": []
    },
    {
      "cell_type": "code",
      "source": [
        "# 7. Write a program that performs basic arithmetic operations on two user-input numbers.\n",
        "a = int(input(\"Enter first number: \"))\n",
        "b = int(input(\"Enter second number: \"))\n",
        "\n",
        "print(\"Sum:\", a + b)\n",
        "print(\"Difference:\", a - b)\n",
        "print(\"Product:\", a * b)\n",
        "print(\"Quotient:\", a / b)\n",
        "print(\"Floor Division:\", a // b)\n",
        "print(\"Modulus:\", a % b)\n",
        "print(\"Power:\", a ** b)\n"
      ],
      "metadata": {
        "id": "QhkCtxtAVY7T"
      },
      "execution_count": null,
      "outputs": []
    },
    {
      "cell_type": "code",
      "source": [
        "# 8. Write a program to demonstrate the use of logical operators.\n",
        "x = 10\n",
        "y = 20\n",
        "\n",
        "print(\"x > 5 and y > 15:\", x > 5 and y > 15)\n",
        "print(\"x > 15 or y > 15:\", x > 15 or y > 15)\n",
        "print(\"not(x > 5):\", not(x > 5))\n"
      ],
      "metadata": {
        "id": "IWUfZYQZVhj4"
      },
      "execution_count": null,
      "outputs": []
    },
    {
      "cell_type": "code",
      "source": [
        "# 9. Write a Python program to convert user input from string to integer, float, and boolean types.\n",
        "value = input(\"Enter something: \")\n",
        "\n",
        "print(\"As Integer:\", int(value))\n",
        "print(\"As Float:\", float(value))\n",
        "print(\"As Boolean:\", bool(value))\n"
      ],
      "metadata": {
        "id": "CCrrcDy5V222"
      },
      "execution_count": null,
      "outputs": []
    },
    {
      "cell_type": "code",
      "source": [
        "# 10. Write code to demonstrate type casting with list elements.\n",
        "numbers = [\"1\", \"2\", \"3\", \"4\"]\n",
        "converted = [int(x) for x in numbers]\n",
        "print(\"Original:\", numbers)\n",
        "print(\"Converted to integers:\", converted)\n"
      ],
      "metadata": {
        "id": "ZCj2MLYXV-Ui"
      },
      "execution_count": null,
      "outputs": []
    },
    {
      "cell_type": "code",
      "source": [
        "# 11. Write a program that checks if a number is positive, negative, or zero.\n",
        "num = int(input(\"Enter a number: \"))\n",
        "\n",
        "if num > 0:\n",
        "    print(\"Positive\")\n",
        "elif num < 0:\n",
        "    print(\"Negative\")\n",
        "else:\n",
        "    print(\"Zero\")\n"
      ],
      "metadata": {
        "id": "1eobeW-QWHF0"
      },
      "execution_count": null,
      "outputs": []
    },
    {
      "cell_type": "code",
      "source": [
        "# 12. Write a for loop to print numbers from 1 to 10.\n",
        "for i in range(1, 11):\n",
        "    print(i)\n"
      ],
      "metadata": {
        "id": "_DsvSBaSWPj9"
      },
      "execution_count": null,
      "outputs": []
    },
    {
      "cell_type": "code",
      "source": [
        "# 13. Write a Python program to find the sum of all even numbers between 1 and 50.\n",
        "total = 0\n",
        "for i in range(2, 51, 2):\n",
        "    total += i\n",
        "print(\"Sum of even numbers between 1 and 50:\", total)\n"
      ],
      "metadata": {
        "id": "Qpnl-ISkWWLJ"
      },
      "execution_count": null,
      "outputs": []
    },
    {
      "cell_type": "code",
      "source": [
        "# 14. Write a program to reverse a string using a while loop.\n",
        "s = input(\"Enter a string: \")\n",
        "reversed_str = \"\"\n",
        "i = len(s) - 1\n",
        "\n",
        "while i >= 0:\n",
        "    reversed_str += s[i]\n",
        "    i -= 1\n",
        "\n",
        "print(\"Reversed String:\", reversed_str)\n"
      ],
      "metadata": {
        "id": "D1CkPpAJWcpk"
      },
      "execution_count": null,
      "outputs": []
    },
    {
      "cell_type": "code",
      "source": [
        "# 15. Write a Python program to calculate the factorial of a number provided by the user using a while loop.\n",
        "num = int(input(\"Enter a number: \"))\n",
        "fact = 1\n",
        "i = 1\n",
        "\n",
        "while i <= num:\n",
        "    fact *= i\n",
        "    i += 1\n",
        "\n",
        "print(\"Factorial of\", num, \"is\", fact)\n"
      ],
      "metadata": {
        "id": "7BtQSXTWWj2Z"
      },
      "execution_count": null,
      "outputs": []
    }
  ]
}